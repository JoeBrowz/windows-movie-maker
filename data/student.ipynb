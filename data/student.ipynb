{
 "cells": [
  {
   "cell_type": "markdown",
   "metadata": {},
   "source": [
    "# Phase 1 Project Submission\n",
    "\n",
    "Please fill out:\n",
    "* Student name: Ning Chen\n",
    "* Student pace: full time\n",
    "* Scheduled project review date/time: 11/06/2020\n",
    "* Instructor name: Fangfang Lee & Justin Tennenbaum\n",
    "* Blog post URL:"
   ]
  },
  {
   "cell_type": "code",
   "execution_count": 1,
   "metadata": {
    "ExecuteTime": {
     "end_time": "2020-11-09T16:42:16.477059Z",
     "start_time": "2020-11-09T16:42:16.465937Z"
    }
   },
   "outputs": [],
   "source": [
    "import numpy as np\n",
    "import pandas as pd\n",
    "import seaborn as sns\n",
    "import requests\n",
    "import json\n",
    "import time\n",
    "import csv\n",
    "import matplotlib.pyplot as plt\n",
    "%matplotlib inline"
   ]
  },
  {
   "cell_type": "code",
   "execution_count": 2,
   "metadata": {
    "ExecuteTime": {
     "end_time": "2020-11-09T16:35:18.983994Z",
     "start_time": "2020-11-09T16:35:18.964805Z"
    }
   },
   "outputs": [],
   "source": [
    "%%capture\n",
    "#from tqdm import tqdm_notebook as tqdm\n",
    "from tqdm.notebook import tqdm\n",
    "tqdm().pandas()"
   ]
  },
  {
   "cell_type": "code",
   "execution_count": 3,
   "metadata": {
    "ExecuteTime": {
     "start_time": "2020-11-10T04:27:27.635Z"
    },
    "scrolled": true
   },
   "outputs": [
    {
     "data": {
      "application/vnd.jupyter.widget-view+json": {
       "model_id": "12fb8b923f264a829b7e4302be1bb644",
       "version_major": 2,
       "version_minor": 0
      },
      "text/plain": [
       "HBox(children=(FloatProgress(value=0.0, max=10.0), HTML(value='')))"
      ]
     },
     "metadata": {},
     "output_type": "display_data"
    },
    {
     "name": "stdout",
     "output_type": "stream",
     "text": [
      "\n"
     ]
    }
   ],
   "source": [
    "f = open('tmdb_api.json')\n",
    "api_key = json.load(f)\n",
    "url = f'https://api.themoviedb.org/3/discover/movie?api_key={api_key}'\n",
    "\n",
    "ids = []\n",
    "discover = []\n",
    "random = np.random.uniform(0, 0.1, 501)\n",
    "\n",
    "# for i in tqdm.notebook.tqdm(range(1, 101)):\n",
    "for i in tqdm(range(1, 11)):\n",
    "    params = {  # 'vote_count.gte': 1,\n",
    "        # 'sort_by': 'vote_count.desc',\n",
    "        'page': i,\n",
    "        # 'primary_release_year': 2020,\n",
    "        'language': 'en-US',\n",
    "        'include_adult': 'false',\n",
    "        'include_video': 'false'}\n",
    "    response = requests.get(url, params)\n",
    "    d = response.json()\n",
    "    discover.extend(d['results'])\n",
    "    ids.extend([d['results'][j]['id'] for j in range(len(d['results']))])\n",
    "    time.sleep(random[i])\n",
    "    mov_ids.extend([x['id'] for x in content['results']])"
   ]
  },
  {
   "cell_type": "code",
   "execution_count": 31,
   "metadata": {},
   "outputs": [],
   "source": [
    "# df = pd.DataFrame(discover)\n",
    "# df.to_csv('data_TMDB/discover2020.csv')"
   ]
  },
  {
   "cell_type": "code",
   "execution_count": 4,
   "metadata": {
    "ExecuteTime": {
     "end_time": "2020-11-10T04:18:03.984600Z",
     "start_time": "2020-11-10T04:18:03.980591Z"
    }
   },
   "outputs": [
    {
     "data": {
      "text/plain": [
       "(dict_keys(['page', 'total_results', 'total_pages', 'results']), 500, 10)"
      ]
     },
     "execution_count": 4,
     "metadata": {},
     "output_type": "execute_result"
    }
   ],
   "source": [
    "d.keys(),d['total_pages'],d['page']"
   ]
  },
  {
   "cell_type": "code",
   "execution_count": 5,
   "metadata": {
    "ExecuteTime": {
     "end_time": "2020-11-10T04:18:41.630078Z",
     "start_time": "2020-11-10T04:18:32.215841Z"
    },
    "scrolled": true
   },
   "outputs": [
    {
     "data": {
      "application/vnd.jupyter.widget-view+json": {
       "model_id": "50f8e42eebd448e2a68cdb6eec1085aa",
       "version_major": 2,
       "version_minor": 0
      },
      "text/plain": [
       "HBox(children=(FloatProgress(value=0.0, max=200.0), HTML(value='')))"
      ]
     },
     "metadata": {},
     "output_type": "display_data"
    },
    {
     "name": "stdout",
     "output_type": "stream",
     "text": [
      "\n"
     ]
    }
   ],
   "source": [
    "film = []\n",
    "for i in tqdm(ids):\n",
    "    url = f'https://api.themoviedb.org/3/movie/{i}?api_key={api_key}'\n",
    "    params = {'language': 'en-US'}\n",
    "    response = requests.get(url, params)\n",
    "    film.append(response.json())\n",
    "    time.sleep(np.random.uniform(0.1, 0.5))"
   ]
  },
  {
   "cell_type": "code",
   "execution_count": 84,
   "metadata": {},
   "outputs": [],
   "source": [
    "dis = pd.read_csv('data_TMDB/discover.csv',engine='python')\n",
    "df = pd.read_csv('data_TMDB/en_csv.csv')\n",
    "df5 = pd.read_csv('data_TMDB/five_year.csv')"
   ]
  },
  {
   "cell_type": "code",
   "execution_count": 74,
   "metadata": {},
   "outputs": [
    {
     "data": {
      "text/plain": [
       "Index(['Unnamed: 0', 'popularity', 'vote_count', 'video', 'poster_path', 'id',\n",
       "       'adult', 'backdrop_path', 'original_language', 'original_title',\n",
       "       'genre_ids', 'title', 'vote_average', 'overview', 'release_date'],\n",
       "      dtype='object')"
      ]
     },
     "execution_count": 74,
     "metadata": {},
     "output_type": "execute_result"
    }
   ],
   "source": [
    "dis.columns"
   ]
  },
  {
   "cell_type": "code",
   "execution_count": 7,
   "metadata": {
    "ExecuteTime": {
     "end_time": "2020-11-10T04:19:03.219427Z",
     "start_time": "2020-11-10T04:19:03.170410Z"
    }
   },
   "outputs": [
    {
     "data": {
      "text/plain": [
       "Index(['Unnamed: 0', 'adult', 'backdrop_path', 'belongs_to_collection',\n",
       "       'budget', 'genres', 'homepage', 'id', 'imdb_id', 'original_language',\n",
       "       'original_title', 'overview', 'popularity', 'poster_path',\n",
       "       'production_companies', 'production_countries', 'release_date',\n",
       "       'revenue', 'runtime', 'spoken_languages', 'status', 'tagline', 'title',\n",
       "       'video', 'vote_average', 'vote_count', 'success', 'status_code',\n",
       "       'status_message'],\n",
       "      dtype='object')"
      ]
     },
     "execution_count": 7,
     "metadata": {},
     "output_type": "execute_result"
    }
   ],
   "source": [
    "df.columns"
   ]
  },
  {
   "cell_type": "code",
   "execution_count": 76,
   "metadata": {},
   "outputs": [],
   "source": [
    "col_dis=['Unnamed: 0', 'video', 'poster_path','adult', 'backdrop_path', 'overview']\n",
    "\n",
    "col5=['Unnamed: 0', 'Unnamed: 0.1','adult','backdrop_path','belongs_to_collection','homepage','overview','poster_path','production_companies',\n",
    "'production_countries','spoken_languages','status','tagline','video','success','status_code','status_message']\n",
    "\n",
    "col=['Unnamed: 0','adult','backdrop_path','belongs_to_collection','homepage','overview','poster_path','production_companies',\n",
    "'production_countries','spoken_languages','status','tagline','video','success','status_code','status_message']"
   ]
  },
  {
   "cell_type": "code",
   "execution_count": 85,
   "metadata": {
    "scrolled": true
   },
   "outputs": [],
   "source": [
    "df.drop(columns=col,axis=1, inplace=True)\n",
    "df5.drop(columns=col5,axis=1, inplace=True)\n",
    "dis.drop(columns=col_dis,axis=1, inplace=True)"
   ]
  },
  {
   "cell_type": "code",
   "execution_count": 86,
   "metadata": {},
   "outputs": [],
   "source": [
    "dis.dropna(inplace=True)\n",
    "df.dropna(inplace=True)\n",
    "df5.dropna(inplace=True)"
   ]
  },
  {
   "cell_type": "code",
   "execution_count": 87,
   "metadata": {},
   "outputs": [],
   "source": [
    "dis.to_csv('data_TMDB/discover_trim.csv', index=False)\n",
    "df.to_csv('data_TMDB/en_trim.csv', index=False)\n",
    "df5.to_csv('data_TMDB/fiveyear_trim.csv', index=False)"
   ]
  },
  {
   "cell_type": "code",
   "execution_count": null,
   "metadata": {},
   "outputs": [],
   "source": []
  },
  {
   "cell_type": "code",
   "execution_count": 184,
   "metadata": {},
   "outputs": [],
   "source": [
    "#dis = pd.read_csv('data_TMDB/discover_trim.csv')\n",
    "df = pd.read_csv('data_TMDB/en_trim.csv')\n",
    "#df5 = pd.read_csv('data_TMDB/fiveyear_trim.csv')"
   ]
  },
  {
   "cell_type": "code",
   "execution_count": 30,
   "metadata": {},
   "outputs": [
    {
     "data": {
      "text/html": [
       "<div>\n",
       "<style scoped>\n",
       "    .dataframe tbody tr th:only-of-type {\n",
       "        vertical-align: middle;\n",
       "    }\n",
       "\n",
       "    .dataframe tbody tr th {\n",
       "        vertical-align: top;\n",
       "    }\n",
       "\n",
       "    .dataframe thead th {\n",
       "        text-align: right;\n",
       "    }\n",
       "</style>\n",
       "<table border=\"1\" class=\"dataframe\">\n",
       "  <thead>\n",
       "    <tr style=\"text-align: right;\">\n",
       "      <th></th>\n",
       "      <th>popularity</th>\n",
       "      <th>vote_count</th>\n",
       "      <th>id</th>\n",
       "      <th>original_language</th>\n",
       "      <th>original_title</th>\n",
       "      <th>genre_ids</th>\n",
       "      <th>title</th>\n",
       "      <th>vote_average</th>\n",
       "      <th>release_date</th>\n",
       "      <th>year</th>\n",
       "    </tr>\n",
       "  </thead>\n",
       "  <tbody>\n",
       "    <tr>\n",
       "      <th>0</th>\n",
       "      <td>306.289</td>\n",
       "      <td>7525.0</td>\n",
       "      <td>283366.0</td>\n",
       "      <td>en</td>\n",
       "      <td>Miss Peregrine's Home for Peculiar Children</td>\n",
       "      <td>[18, 14, 12, 10751]</td>\n",
       "      <td>Miss Peregrine's Home for Peculiar Children</td>\n",
       "      <td>6.7</td>\n",
       "      <td>2016-09-28</td>\n",
       "      <td>2016</td>\n",
       "    </tr>\n",
       "    <tr>\n",
       "      <th>1</th>\n",
       "      <td>165.302</td>\n",
       "      <td>303.0</td>\n",
       "      <td>420634.0</td>\n",
       "      <td>en</td>\n",
       "      <td>Terrifier</td>\n",
       "      <td>[53, 27]</td>\n",
       "      <td>Terrifier</td>\n",
       "      <td>6.3</td>\n",
       "      <td>2016-10-15</td>\n",
       "      <td>2016</td>\n",
       "    </tr>\n",
       "    <tr>\n",
       "      <th>2</th>\n",
       "      <td>131.741</td>\n",
       "      <td>3734.0</td>\n",
       "      <td>316727.0</td>\n",
       "      <td>en</td>\n",
       "      <td>The Purge: Election Year</td>\n",
       "      <td>[28, 27, 53]</td>\n",
       "      <td>The Purge: Election Year</td>\n",
       "      <td>6.4</td>\n",
       "      <td>2016-06-29</td>\n",
       "      <td>2016</td>\n",
       "    </tr>\n",
       "    <tr>\n",
       "      <th>3</th>\n",
       "      <td>130.125</td>\n",
       "      <td>6596.0</td>\n",
       "      <td>372058.0</td>\n",
       "      <td>ja</td>\n",
       "      <td>君の名は。</td>\n",
       "      <td>[10749, 16, 18]</td>\n",
       "      <td>Your Name.</td>\n",
       "      <td>8.6</td>\n",
       "      <td>2016-08-26</td>\n",
       "      <td>2016</td>\n",
       "    </tr>\n",
       "    <tr>\n",
       "      <th>4</th>\n",
       "      <td>96.344</td>\n",
       "      <td>5629.0</td>\n",
       "      <td>335797.0</td>\n",
       "      <td>en</td>\n",
       "      <td>Sing</td>\n",
       "      <td>[16, 35, 18, 10751, 10402]</td>\n",
       "      <td>Sing</td>\n",
       "      <td>7.0</td>\n",
       "      <td>2016-11-23</td>\n",
       "      <td>2016</td>\n",
       "    </tr>\n",
       "  </tbody>\n",
       "</table>\n",
       "</div>"
      ],
      "text/plain": [
       "   popularity  vote_count        id original_language  \\\n",
       "0     306.289      7525.0  283366.0                en   \n",
       "1     165.302       303.0  420634.0                en   \n",
       "2     131.741      3734.0  316727.0                en   \n",
       "3     130.125      6596.0  372058.0                ja   \n",
       "4      96.344      5629.0  335797.0                en   \n",
       "\n",
       "                                original_title                   genre_ids  \\\n",
       "0  Miss Peregrine's Home for Peculiar Children         [18, 14, 12, 10751]   \n",
       "1                                    Terrifier                    [53, 27]   \n",
       "2                     The Purge: Election Year                [28, 27, 53]   \n",
       "3                                        君の名は。             [10749, 16, 18]   \n",
       "4                                         Sing  [16, 35, 18, 10751, 10402]   \n",
       "\n",
       "                                         title  vote_average release_date  \\\n",
       "0  Miss Peregrine's Home for Peculiar Children           6.7   2016-09-28   \n",
       "1                                    Terrifier           6.3   2016-10-15   \n",
       "2                     The Purge: Election Year           6.4   2016-06-29   \n",
       "3                                   Your Name.           8.6   2016-08-26   \n",
       "4                                         Sing           7.0   2016-11-23   \n",
       "\n",
       "   year  \n",
       "0  2016  \n",
       "1  2016  \n",
       "2  2016  \n",
       "3  2016  \n",
       "4  2016  "
      ]
     },
     "execution_count": 30,
     "metadata": {},
     "output_type": "execute_result"
    }
   ],
   "source": [
    "dis.head()"
   ]
  },
  {
   "cell_type": "code",
   "execution_count": 88,
   "metadata": {},
   "outputs": [],
   "source": [
    "dis['year'] = dis.release_date.str[:4]"
   ]
  },
  {
   "cell_type": "code",
   "execution_count": 61,
   "metadata": {},
   "outputs": [],
   "source": [
    "dis_rate = dis[(dis.vote_average != 0) & (dis.vote_average != 10)]"
   ]
  },
  {
   "cell_type": "code",
   "execution_count": 29,
   "metadata": {
    "scrolled": false
   },
   "outputs": [
    {
     "data": {
      "text/html": [
       "<div>\n",
       "<style scoped>\n",
       "    .dataframe tbody tr th:only-of-type {\n",
       "        vertical-align: middle;\n",
       "    }\n",
       "\n",
       "    .dataframe tbody tr th {\n",
       "        vertical-align: top;\n",
       "    }\n",
       "\n",
       "    .dataframe thead th {\n",
       "        text-align: right;\n",
       "    }\n",
       "</style>\n",
       "<table border=\"1\" class=\"dataframe\">\n",
       "  <thead>\n",
       "    <tr style=\"text-align: right;\">\n",
       "      <th></th>\n",
       "      <th>mean</th>\n",
       "      <th>min</th>\n",
       "      <th>max</th>\n",
       "      <th>std</th>\n",
       "    </tr>\n",
       "    <tr>\n",
       "      <th>year</th>\n",
       "      <th></th>\n",
       "      <th></th>\n",
       "      <th></th>\n",
       "      <th></th>\n",
       "    </tr>\n",
       "  </thead>\n",
       "  <tbody>\n",
       "    <tr>\n",
       "      <th>2016</th>\n",
       "      <td>6.021084</td>\n",
       "      <td>0.5</td>\n",
       "      <td>9.8</td>\n",
       "      <td>1.559531</td>\n",
       "    </tr>\n",
       "    <tr>\n",
       "      <th>2017</th>\n",
       "      <td>6.139893</td>\n",
       "      <td>0.5</td>\n",
       "      <td>9.9</td>\n",
       "      <td>1.523518</td>\n",
       "    </tr>\n",
       "    <tr>\n",
       "      <th>2018</th>\n",
       "      <td>6.197032</td>\n",
       "      <td>0.5</td>\n",
       "      <td>9.7</td>\n",
       "      <td>1.519795</td>\n",
       "    </tr>\n",
       "    <tr>\n",
       "      <th>2019</th>\n",
       "      <td>6.224129</td>\n",
       "      <td>0.5</td>\n",
       "      <td>9.9</td>\n",
       "      <td>1.563777</td>\n",
       "    </tr>\n",
       "    <tr>\n",
       "      <th>2020</th>\n",
       "      <td>6.036337</td>\n",
       "      <td>1.0</td>\n",
       "      <td>9.8</td>\n",
       "      <td>1.862345</td>\n",
       "    </tr>\n",
       "  </tbody>\n",
       "</table>\n",
       "</div>"
      ],
      "text/plain": [
       "          mean  min  max       std\n",
       "year                              \n",
       "2016  6.021084  0.5  9.8  1.559531\n",
       "2017  6.139893  0.5  9.9  1.523518\n",
       "2018  6.197032  0.5  9.7  1.519795\n",
       "2019  6.224129  0.5  9.9  1.563777\n",
       "2020  6.036337  1.0  9.8  1.862345"
      ]
     },
     "execution_count": 29,
     "metadata": {},
     "output_type": "execute_result"
    }
   ],
   "source": [
    "dis_rate.groupby('year').vote_average.agg(['mean','min','max','std'])"
   ]
  },
  {
   "cell_type": "code",
   "execution_count": 232,
   "metadata": {
    "scrolled": false
   },
   "outputs": [
    {
     "data": {
      "text/plain": [
       "Text(0.5, 1.0, 'top 10 languages')"
      ]
     },
     "execution_count": 232,
     "metadata": {},
     "output_type": "execute_result"
    },
    {
     "data": {
      "image/png": "[encoded data removed]",
      "text/plain": [
       "<Figure size 432x288 with 1 Axes>"
      ]
     },
     "metadata": {},
     "output_type": "display_data"
    }
   ],
   "source": [
    "dis.original_language.value_counts()[:10][::-1].plot(kind='barh')\n",
    "plt.title('top 10 languages')"
   ]
  },
  {
   "cell_type": "code",
   "execution_count": 68,
   "metadata": {},
   "outputs": [],
   "source": [
    "mean = dis_rate.groupby('year').vote_average.mean()"
   ]
  },
  {
   "cell_type": "code",
   "execution_count": 251,
   "metadata": {},
   "outputs": [
    {
     "data": {
      "text/plain": [
       "Text(0.5, 1.0, 'rate probability distribution')"
      ]
     },
     "execution_count": 251,
     "metadata": {},
     "output_type": "execute_result"
    },
    {
     "data": {
      "image/png": "[encoded data removed]",
      "text/plain": [
       "<Figure size 432x288 with 1 Axes>"
      ]
     },
     "metadata": {},
     "output_type": "display_data"
    }
   ],
   "source": [
    "dis.groupby('year').vote_average.plot(kind='kde')\n",
    "plt.axvline(dis_rate.vote_average.mean(),color='k')\n",
    "plt.legend()\n",
    "plt.xlabel('ratings')\n",
    "plt.xlim(0,10)\n",
    "plt.title('rate probability distribution')"
   ]
  },
  {
   "cell_type": "code",
   "execution_count": 89,
   "metadata": {},
   "outputs": [],
   "source": [
    "pd.options.mode.chained_assignment = None"
   ]
  },
  {
   "cell_type": "code",
   "execution_count": 117,
   "metadata": {},
   "outputs": [],
   "source": [
    "dfbr = df[(df['budget']!=0) & (df['revenue']!=0)]\n",
    "df5br = df5[(df5['budget']!=0) & (df5['revenue']!=0)]"
   ]
  },
  {
   "cell_type": "code",
   "execution_count": 77,
   "metadata": {
    "scrolled": false
   },
   "outputs": [
    {
     "data": {
      "text/plain": [
       "((9882, 13), (36975, 13), (4483, 13), (1086, 13))"
      ]
     },
     "execution_count": 77,
     "metadata": {},
     "output_type": "execute_result"
    }
   ],
   "source": [
    "df.shape, df5.shape, dfbr.shape, df5br.shape"
   ]
  },
  {
   "cell_type": "code",
   "execution_count": 120,
   "metadata": {
    "scrolled": true
   },
   "outputs": [],
   "source": [
    "df5br['year'] = df5br.release_date.str[:4]"
   ]
  },
  {
   "cell_type": "code",
   "execution_count": 118,
   "metadata": {},
   "outputs": [],
   "source": [
    "df5br['profit'] = df5br.revenue-df5br.budget"
   ]
  },
  {
   "cell_type": "code",
   "execution_count": 91,
   "metadata": {},
   "outputs": [],
   "source": [
    "dfbr['year'] = dfbr.release_date.str[:4]"
   ]
  },
  {
   "cell_type": "code",
   "execution_count": 108,
   "metadata": {},
   "outputs": [],
   "source": [
    "sns.set()"
   ]
  },
  {
   "cell_type": "code",
   "execution_count": 143,
   "metadata": {
    "scrolled": true
   },
   "outputs": [
    {
     "data": {
      "text/plain": [
       "<seaborn.axisgrid.JointGrid at 0x7f95664bc730>"
      ]
     },
     "execution_count": 143,
     "metadata": {},
     "output_type": "execute_result"
    },
    {
     "data": {
      "image/png": "[encoded data removed]",
      "text/plain": [
       "<Figure size 432x432 with 3 Axes>"
      ]
     },
     "metadata": {},
     "output_type": "display_data"
    }
   ],
   "source": [
    "sns.jointplot(x='budget', y='revenue', data=df5br, kind=\"reg\")"
   ]
  },
  {
   "cell_type": "code",
   "execution_count": 144,
   "metadata": {},
   "outputs": [
    {
     "data": {
      "text/plain": [
       "Text(0.5, 1.0, 'budget vs revenue in yr 2016-2020')"
      ]
     },
     "execution_count": 144,
     "metadata": {},
     "output_type": "execute_result"
    },
    {
     "data": {
      "image/png": "[encoded data removed]",
      "text/plain": [
       "<Figure size 424.1x360 with 1 Axes>"
      ]
     },
     "metadata": {},
     "output_type": "display_data"
    }
   ],
   "source": [
    "sns.lmplot(x='budget', y='revenue',data=df5br, hue='year')\n",
    "plt.title('budget vs revenue in yr 2016-2020')"
   ]
  },
  {
   "cell_type": "code",
   "execution_count": 141,
   "metadata": {},
   "outputs": [
    {
     "data": {
      "text/plain": [
       "<matplotlib.axes._subplots.AxesSubplot at 0x7f95660d2670>"
      ]
     },
     "execution_count": 141,
     "metadata": {},
     "output_type": "execute_result"
    },
    {
     "data": {
      "image/png": "[encoded data removed]",
      "text/plain": [
       "<Figure size 1152x288 with 3 Axes>"
      ]
     },
     "metadata": {},
     "output_type": "display_data"
    }
   ],
   "source": [
    "fig, ax = plt.subplots(1, 3, figsize=(16,4))\n",
    "sns.boxplot(x='year',y='budget',data=df5br, ax=ax[0], showfliers = False)\n",
    "sns.boxplot(x='year',y='revenue',data=df5br, ax=ax[1], showfliers = False)\n",
    "sns.boxplot(x='year',y='profit',data=df5br, ax=ax[2], showfliers = False)"
   ]
  },
  {
   "cell_type": "code",
   "execution_count": 199,
   "metadata": {
    "scrolled": true
   },
   "outputs": [],
   "source": [
    "df['genre'] = None\n",
    "for i in range(len(df.genres)):    \n",
    "    ls = df.genres[i].split(',')\n",
    "    df['genre'][i] = [ls[j][10:-2] for j in range(1,len(ls)-1,2)]\n",
    "    df['genre'][i].append(ls[-1][10:-3])"
   ]
  },
  {
   "cell_type": "code",
   "execution_count": null,
   "metadata": {},
   "outputs": [],
   "source": []
  },
  {
   "cell_type": "code",
   "execution_count": 228,
   "metadata": {},
   "outputs": [
    {
     "data": {
      "text/plain": [
       "(9882, 14)"
      ]
     },
     "execution_count": 228,
     "metadata": {},
     "output_type": "execute_result"
    }
   ],
   "source": [
    "df.shape"
   ]
  },
  {
   "cell_type": "code",
   "execution_count": 203,
   "metadata": {},
   "outputs": [],
   "source": [
    "gen = pd.DataFrame(df.genre.tolist()).stack()"
   ]
  },
  {
   "cell_type": "code",
   "execution_count": 215,
   "metadata": {},
   "outputs": [
    {
     "data": {
      "text/plain": [
       "<pandas.core.groupby.generic.DataFrameGroupBy object at 0x7f9564f54850>"
      ]
     },
     "execution_count": 215,
     "metadata": {},
     "output_type": "execute_result"
    }
   ],
   "source": [
    "gen = pd.DataFrame(df.genre.tolist()).stack()\n",
    "gen.index = gen.index.droplevel(-1)\n",
    "gen.name = 'gen'\n",
    "df.join(gen).groupby('gen')"
   ]
  },
  {
   "cell_type": "code",
   "execution_count": 231,
   "metadata": {},
   "outputs": [
    {
     "data": {
      "text/plain": [
       "<matplotlib.axes._subplots.AxesSubplot at 0x7f9565c7d790>"
      ]
     },
     "execution_count": 231,
     "metadata": {},
     "output_type": "execute_result"
    },
    {
     "data": {
      "image/png": "[encoded data removed]",
      "text/plain": [
       "<Figure size 432x288 with 1 Axes>"
      ]
     },
     "metadata": {},
     "output_type": "display_data"
    }
   ],
   "source": [
    "df.join(gen).groupby('gen').size().sort_values().plot(kind='barh')"
   ]
  },
  {
   "cell_type": "code",
   "execution_count": 244,
   "metadata": {},
   "outputs": [],
   "source": [
    "dfbr['profit'] = dfbr.revenue-dfbr.budget"
   ]
  },
  {
   "cell_type": "code",
   "execution_count": 249,
   "metadata": {},
   "outputs": [
    {
     "data": {
      "text/html": [
       "<div>\n",
       "<style scoped>\n",
       "    .dataframe tbody tr th:only-of-type {\n",
       "        vertical-align: middle;\n",
       "    }\n",
       "\n",
       "    .dataframe tbody tr th {\n",
       "        vertical-align: top;\n",
       "    }\n",
       "\n",
       "    .dataframe thead th {\n",
       "        text-align: right;\n",
       "    }\n",
       "</style>\n",
       "<table border=\"1\" class=\"dataframe\">\n",
       "  <thead>\n",
       "    <tr style=\"text-align: right;\">\n",
       "      <th></th>\n",
       "      <th>mean</th>\n",
       "      <th>median</th>\n",
       "      <th>std</th>\n",
       "    </tr>\n",
       "    <tr>\n",
       "      <th>gen</th>\n",
       "      <th></th>\n",
       "      <th></th>\n",
       "      <th></th>\n",
       "    </tr>\n",
       "  </thead>\n",
       "  <tbody>\n",
       "    <tr>\n",
       "      <th>Animation</th>\n",
       "      <td>1.757534e+08</td>\n",
       "      <td>80275281.5</td>\n",
       "      <td>2.449711e+08</td>\n",
       "    </tr>\n",
       "    <tr>\n",
       "      <th>Adventure</th>\n",
       "      <td>1.725727e+08</td>\n",
       "      <td>58302868.0</td>\n",
       "      <td>2.826274e+08</td>\n",
       "    </tr>\n",
       "    <tr>\n",
       "      <th>Fantasy</th>\n",
       "      <td>1.520544e+08</td>\n",
       "      <td>48975405.5</td>\n",
       "      <td>2.621908e+08</td>\n",
       "    </tr>\n",
       "    <tr>\n",
       "      <th>Family</th>\n",
       "      <td>1.398301e+08</td>\n",
       "      <td>58079915.0</td>\n",
       "      <td>2.150312e+08</td>\n",
       "    </tr>\n",
       "    <tr>\n",
       "      <th>Science Fiction</th>\n",
       "      <td>1.248415e+08</td>\n",
       "      <td>26159753.0</td>\n",
       "      <td>2.697359e+08</td>\n",
       "    </tr>\n",
       "    <tr>\n",
       "      <th>Action</th>\n",
       "      <td>1.148506e+08</td>\n",
       "      <td>37323000.0</td>\n",
       "      <td>2.284672e+08</td>\n",
       "    </tr>\n",
       "    <tr>\n",
       "      <th>Comedy</th>\n",
       "      <td>8.024314e+07</td>\n",
       "      <td>31057317.5</td>\n",
       "      <td>1.377819e+08</td>\n",
       "    </tr>\n",
       "    <tr>\n",
       "      <th>Music</th>\n",
       "      <td>7.114189e+07</td>\n",
       "      <td>13565358.0</td>\n",
       "      <td>1.665966e+08</td>\n",
       "    </tr>\n",
       "    <tr>\n",
       "      <th>Romance</th>\n",
       "      <td>7.029643e+07</td>\n",
       "      <td>25546556.0</td>\n",
       "      <td>1.378286e+08</td>\n",
       "    </tr>\n",
       "    <tr>\n",
       "      <th>War</th>\n",
       "      <td>6.110612e+07</td>\n",
       "      <td>26746888.0</td>\n",
       "      <td>1.173838e+08</td>\n",
       "    </tr>\n",
       "    <tr>\n",
       "      <th>Thriller</th>\n",
       "      <td>5.766711e+07</td>\n",
       "      <td>19411370.0</td>\n",
       "      <td>1.201593e+08</td>\n",
       "    </tr>\n",
       "    <tr>\n",
       "      <th>Mystery</th>\n",
       "      <td>5.517096e+07</td>\n",
       "      <td>21052460.0</td>\n",
       "      <td>9.934921e+07</td>\n",
       "    </tr>\n",
       "    <tr>\n",
       "      <th>Drama</th>\n",
       "      <td>5.481681e+07</td>\n",
       "      <td>17346992.5</td>\n",
       "      <td>1.162031e+08</td>\n",
       "    </tr>\n",
       "    <tr>\n",
       "      <th>Crime</th>\n",
       "      <td>5.001455e+07</td>\n",
       "      <td>19583423.0</td>\n",
       "      <td>1.013901e+08</td>\n",
       "    </tr>\n",
       "    <tr>\n",
       "      <th>Horror</th>\n",
       "      <td>4.216561e+07</td>\n",
       "      <td>16327500.0</td>\n",
       "      <td>7.312965e+07</td>\n",
       "    </tr>\n",
       "    <tr>\n",
       "      <th>History</th>\n",
       "      <td>4.203277e+07</td>\n",
       "      <td>19155219.0</td>\n",
       "      <td>8.528428e+07</td>\n",
       "    </tr>\n",
       "    <tr>\n",
       "      <th>Documentary</th>\n",
       "      <td>3.931032e+07</td>\n",
       "      <td>15195097.0</td>\n",
       "      <td>5.184026e+07</td>\n",
       "    </tr>\n",
       "    <tr>\n",
       "      <th>Western</th>\n",
       "      <td>3.407262e+07</td>\n",
       "      <td>7232628.0</td>\n",
       "      <td>9.049402e+07</td>\n",
       "    </tr>\n",
       "    <tr>\n",
       "      <th>TV Movie</th>\n",
       "      <td>2.884238e+06</td>\n",
       "      <td>1900000.0</td>\n",
       "      <td>3.603494e+06</td>\n",
       "    </tr>\n",
       "  </tbody>\n",
       "</table>\n",
       "</div>"
      ],
      "text/plain": [
       "                         mean      median           std\n",
       "gen                                                    \n",
       "Animation        1.757534e+08  80275281.5  2.449711e+08\n",
       "Adventure        1.725727e+08  58302868.0  2.826274e+08\n",
       "Fantasy          1.520544e+08  48975405.5  2.621908e+08\n",
       "Family           1.398301e+08  58079915.0  2.150312e+08\n",
       "Science Fiction  1.248415e+08  26159753.0  2.697359e+08\n",
       "Action           1.148506e+08  37323000.0  2.284672e+08\n",
       "Comedy           8.024314e+07  31057317.5  1.377819e+08\n",
       "Music            7.114189e+07  13565358.0  1.665966e+08\n",
       "Romance          7.029643e+07  25546556.0  1.378286e+08\n",
       "War              6.110612e+07  26746888.0  1.173838e+08\n",
       "Thriller         5.766711e+07  19411370.0  1.201593e+08\n",
       "Mystery          5.517096e+07  21052460.0  9.934921e+07\n",
       "Drama            5.481681e+07  17346992.5  1.162031e+08\n",
       "Crime            5.001455e+07  19583423.0  1.013901e+08\n",
       "Horror           4.216561e+07  16327500.0  7.312965e+07\n",
       "History          4.203277e+07  19155219.0  8.528428e+07\n",
       "Documentary      3.931032e+07  15195097.0  5.184026e+07\n",
       "Western          3.407262e+07   7232628.0  9.049402e+07\n",
       "TV Movie         2.884238e+06   1900000.0  3.603494e+06"
      ]
     },
     "execution_count": 249,
     "metadata": {},
     "output_type": "execute_result"
    }
   ],
   "source": [
    "dfbr.join(gen).groupby('gen')['profit'].agg(['mean','median','std']).sort_values(by='mean', ascending=False)"
   ]
  },
  {
   "cell_type": "code",
   "execution_count": 250,
   "metadata": {},
   "outputs": [
    {
     "data": {
      "text/html": [
       "<div>\n",
       "<style scoped>\n",
       "    .dataframe tbody tr th:only-of-type {\n",
       "        vertical-align: middle;\n",
       "    }\n",
       "\n",
       "    .dataframe tbody tr th {\n",
       "        vertical-align: top;\n",
       "    }\n",
       "\n",
       "    .dataframe thead th {\n",
       "        text-align: right;\n",
       "    }\n",
       "</style>\n",
       "<table border=\"1\" class=\"dataframe\">\n",
       "  <thead>\n",
       "    <tr style=\"text-align: right;\">\n",
       "      <th></th>\n",
       "      <th>mean</th>\n",
       "      <th>median</th>\n",
       "      <th>std</th>\n",
       "    </tr>\n",
       "    <tr>\n",
       "      <th>gen</th>\n",
       "      <th></th>\n",
       "      <th></th>\n",
       "      <th></th>\n",
       "    </tr>\n",
       "  </thead>\n",
       "  <tbody>\n",
       "    <tr>\n",
       "      <th>Documentary</th>\n",
       "      <td>7.010000</td>\n",
       "      <td>7.0</td>\n",
       "      <td>0.697288</td>\n",
       "    </tr>\n",
       "    <tr>\n",
       "      <th>History</th>\n",
       "      <td>6.982915</td>\n",
       "      <td>7.0</td>\n",
       "      <td>0.675554</td>\n",
       "    </tr>\n",
       "    <tr>\n",
       "      <th>War</th>\n",
       "      <td>6.970807</td>\n",
       "      <td>7.1</td>\n",
       "      <td>0.760233</td>\n",
       "    </tr>\n",
       "    <tr>\n",
       "      <th>Western</th>\n",
       "      <td>6.815068</td>\n",
       "      <td>6.9</td>\n",
       "      <td>0.892355</td>\n",
       "    </tr>\n",
       "    <tr>\n",
       "      <th>Drama</th>\n",
       "      <td>6.800267</td>\n",
       "      <td>6.8</td>\n",
       "      <td>0.784575</td>\n",
       "    </tr>\n",
       "    <tr>\n",
       "      <th>Music</th>\n",
       "      <td>6.737333</td>\n",
       "      <td>6.7</td>\n",
       "      <td>0.753297</td>\n",
       "    </tr>\n",
       "    <tr>\n",
       "      <th>Animation</th>\n",
       "      <td>6.725926</td>\n",
       "      <td>6.8</td>\n",
       "      <td>0.834589</td>\n",
       "    </tr>\n",
       "    <tr>\n",
       "      <th>Romance</th>\n",
       "      <td>6.580775</td>\n",
       "      <td>6.6</td>\n",
       "      <td>0.751234</td>\n",
       "    </tr>\n",
       "    <tr>\n",
       "      <th>Crime</th>\n",
       "      <td>6.572552</td>\n",
       "      <td>6.5</td>\n",
       "      <td>0.836366</td>\n",
       "    </tr>\n",
       "    <tr>\n",
       "      <th>Mystery</th>\n",
       "      <td>6.460096</td>\n",
       "      <td>6.4</td>\n",
       "      <td>0.874894</td>\n",
       "    </tr>\n",
       "    <tr>\n",
       "      <th>Adventure</th>\n",
       "      <td>6.454071</td>\n",
       "      <td>6.4</td>\n",
       "      <td>0.853758</td>\n",
       "    </tr>\n",
       "    <tr>\n",
       "      <th>Family</th>\n",
       "      <td>6.453565</td>\n",
       "      <td>6.5</td>\n",
       "      <td>0.806734</td>\n",
       "    </tr>\n",
       "    <tr>\n",
       "      <th>Fantasy</th>\n",
       "      <td>6.417921</td>\n",
       "      <td>6.4</td>\n",
       "      <td>0.930686</td>\n",
       "    </tr>\n",
       "    <tr>\n",
       "      <th>Thriller</th>\n",
       "      <td>6.348320</td>\n",
       "      <td>6.3</td>\n",
       "      <td>0.840512</td>\n",
       "    </tr>\n",
       "    <tr>\n",
       "      <th>Comedy</th>\n",
       "      <td>6.336528</td>\n",
       "      <td>6.3</td>\n",
       "      <td>0.783092</td>\n",
       "    </tr>\n",
       "    <tr>\n",
       "      <th>Action</th>\n",
       "      <td>6.319296</td>\n",
       "      <td>6.3</td>\n",
       "      <td>0.844089</td>\n",
       "    </tr>\n",
       "    <tr>\n",
       "      <th>Science Fiction</th>\n",
       "      <td>6.294391</td>\n",
       "      <td>6.3</td>\n",
       "      <td>0.918606</td>\n",
       "    </tr>\n",
       "    <tr>\n",
       "      <th>TV Movie</th>\n",
       "      <td>6.233333</td>\n",
       "      <td>6.1</td>\n",
       "      <td>0.808290</td>\n",
       "    </tr>\n",
       "    <tr>\n",
       "      <th>Horror</th>\n",
       "      <td>6.060697</td>\n",
       "      <td>6.1</td>\n",
       "      <td>0.810047</td>\n",
       "    </tr>\n",
       "  </tbody>\n",
       "</table>\n",
       "</div>"
      ],
      "text/plain": [
       "                     mean  median       std\n",
       "gen                                        \n",
       "Documentary      7.010000     7.0  0.697288\n",
       "History          6.982915     7.0  0.675554\n",
       "War              6.970807     7.1  0.760233\n",
       "Western          6.815068     6.9  0.892355\n",
       "Drama            6.800267     6.8  0.784575\n",
       "Music            6.737333     6.7  0.753297\n",
       "Animation        6.725926     6.8  0.834589\n",
       "Romance          6.580775     6.6  0.751234\n",
       "Crime            6.572552     6.5  0.836366\n",
       "Mystery          6.460096     6.4  0.874894\n",
       "Adventure        6.454071     6.4  0.853758\n",
       "Family           6.453565     6.5  0.806734\n",
       "Fantasy          6.417921     6.4  0.930686\n",
       "Thriller         6.348320     6.3  0.840512\n",
       "Comedy           6.336528     6.3  0.783092\n",
       "Action           6.319296     6.3  0.844089\n",
       "Science Fiction  6.294391     6.3  0.918606\n",
       "TV Movie         6.233333     6.1  0.808290\n",
       "Horror           6.060697     6.1  0.810047"
      ]
     },
     "execution_count": 250,
     "metadata": {},
     "output_type": "execute_result"
    }
   ],
   "source": [
    "dfbr.join(gen).groupby('gen')['vote_average'].agg(['mean','median','std']).sort_values(by='mean', ascending=False)"
   ]
  },
  {
   "cell_type": "code",
   "execution_count": null,
   "metadata": {},
   "outputs": [],
   "source": []
  },
  {
   "cell_type": "code",
   "execution_count": null,
   "metadata": {},
   "outputs": [],
   "source": []
  },
  {
   "cell_type": "code",
   "execution_count": null,
   "metadata": {},
   "outputs": [],
   "source": [
    "# https://api.themoviedb.org/3/movie/157336?api_key={api_key}\n",
    "# https://api.themoviedb.org/3/movie/157336/videos?api_key={api_key}\n",
    "    \n",
    "# single request:\n",
    "# https://api.themoviedb.org/3/movie/157336?api_key={api_key}&append_to_response=videos\n",
    "# multiple requests\n",
    "# https://api.themoviedb.org/3/movie/157336?api_key={api_key}&append_to_response=videos,images\n",
    "\n",
    "# popularity.asc\n",
    "# popularity.desc\n",
    "# release_date.asc\n",
    "# release_date.desc\n",
    "# revenue.asc\n",
    "# revenue.desc\n",
    "# primary_release_date.asc\n",
    "# primary_release_date.desc\n",
    "# original_title.asc\n",
    "# original_title.desc\n",
    "# vote_average.asc\n",
    "# vote_average.desc\n",
    "# vote_count.asc\n",
    "# vote_count.desc"
   ]
  },
  {
   "cell_type": "code",
   "execution_count": null,
   "metadata": {},
   "outputs": [],
   "source": []
  }
 ],
 "metadata": {
  "kernelspec": {
   "display_name": "Python 3",
   "language": "python",
   "name": "python3"
  },
  "language_info": {
   "codemirror_mode": {
    "name": "ipython",
    "version": 3
   },
   "file_extension": ".py",
   "mimetype": "text/x-python",
   "name": "python",
   "nbconvert_exporter": "python",
   "pygments_lexer": "ipython3",
   "version": "3.8.3"
  }
 },
 "nbformat": 4,
 "nbformat_minor": 2
}
